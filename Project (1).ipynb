{
  "nbformat": 4,
  "nbformat_minor": 0,
  "metadata": {
    "colab": {
      "name": "Project.ipynb",
      "provenance": []
    },
    "kernelspec": {
      "name": "python3",
      "display_name": "Python 3"
    },
    "language_info": {
      "name": "python"
    }
  },
  "cells": [
    {
      "cell_type": "code",
      "metadata": {
        "id": "9x-T7JFueUPC"
      },
      "source": [
        "import json\n",
        "fd=open(\"listforinventory.json\",\"w\")"
      ],
      "execution_count": 21,
      "outputs": []
    },
    {
      "cell_type": "code",
      "metadata": {
        "id": "eF1GesUieap5"
      },
      "source": [
        "js = json.dumps(inven)"
      ],
      "execution_count": 22,
      "outputs": []
    },
    {
      "cell_type": "code",
      "metadata": {
        "colab": {
          "base_uri": "https://localhost:8080/"
        },
        "id": "fVcapFzOfnpC",
        "outputId": "8d1d062f-5c97-4d2a-c1e5-846d2cb28c15"
      },
      "source": [
        "fd.write(js)"
      ],
      "execution_count": 23,
      "outputs": [
        {
          "output_type": "execute_result",
          "data": {
            "text/plain": [
              "2976"
            ]
          },
          "metadata": {},
          "execution_count": 23
        }
      ]
    },
    {
      "cell_type": "code",
      "metadata": {
        "colab": {
          "base_uri": "https://localhost:8080/"
        },
        "id": "GmTxh6Qlfsjz",
        "outputId": "11bda6c5-f690-4254-c231-b6baf2646dc3"
      },
      "source": [
        "fd.close"
      ],
      "execution_count": 24,
      "outputs": [
        {
          "output_type": "execute_result",
          "data": {
            "text/plain": [
              "<function TextIOWrapper.close>"
            ]
          },
          "metadata": {},
          "execution_count": 24
        }
      ]
    },
    {
      "cell_type": "code",
      "metadata": {
        "id": "3WQHNL4WfvQ1"
      },
      "source": [
        "fd=open(\"records.json\",'w')\n",
        "fd.write(js)\n",
        "fd.close()"
      ],
      "execution_count": 25,
      "outputs": []
    },
    {
      "cell_type": "code",
      "metadata": {
        "id": "rXY0dHS8fw4N"
      },
      "source": [
        "fd=open('records.json','r')\n",
        "js=fd.read()\n",
        "fd.close()"
      ],
      "execution_count": 26,
      "outputs": []
    },
    {
      "cell_type": "code",
      "metadata": {
        "colab": {
          "base_uri": "https://localhost:8080/"
        },
        "id": "OhSH90Czfyem",
        "outputId": "6cb47873-156d-4945-854c-668b8ba8ae70"
      },
      "source": [
        "records=json.loads(js)\n",
        "records"
      ],
      "execution_count": 27,
      "outputs": [
        {
          "output_type": "execute_result",
          "data": {
            "text/plain": [
              "{'0001': {'category': 'chocolate',\n",
              "  'item': 'Milkybar(s)',\n",
              "  'price': 25,\n",
              "  'quantity': 20,\n",
              "  'rating': 65},\n",
              " '0002': {'category': 'chocolate',\n",
              "  'item': 'Milkybar(m)',\n",
              "  'price': 52,\n",
              "  'quantity': 54,\n",
              "  'rating': 45},\n",
              " '0003': {'category': 'chocolate',\n",
              "  'item': 'Milkybar(l)',\n",
              "  'price': 45,\n",
              "  'quantity': 16,\n",
              "  'rating': 66},\n",
              " '0004': {'category': 'chocolate',\n",
              "  'item': 'barone(s)',\n",
              "  'price': 25,\n",
              "  'quantity': 50,\n",
              "  'rating': 64},\n",
              " '0005': {'category': 'chocolate',\n",
              "  'item': 'barone(m)',\n",
              "  'price': 48,\n",
              "  'quantity': 45,\n",
              "  'rating': 100},\n",
              " '0006': {'category': 'chocolate',\n",
              "  'item': 'barone(l)',\n",
              "  'price': 80,\n",
              "  'quantity': 48,\n",
              "  'rating': 48},\n",
              " '0007': {'category': 'chocolate',\n",
              "  'item': 'kitkat(s)',\n",
              "  'price': 100,\n",
              "  'quantity': 50,\n",
              "  'rating': 700},\n",
              " '0008': {'category': 'chocolate',\n",
              "  'item': 'kitkat(l)',\n",
              "  'price': 15,\n",
              "  'quantity': 70,\n",
              "  'rating': 18},\n",
              " '0009': {'category': 'chocolate',\n",
              "  'item': 'temptation(s)',\n",
              "  'price': 20,\n",
              "  'quantity': 10,\n",
              "  'rating': 59},\n",
              " '0010': {'category': 'chocolate',\n",
              "  'item': 'temptation(l)',\n",
              "  'price': 80,\n",
              "  'quantity': 115,\n",
              "  'rating': 91},\n",
              " '0011': {'category': 'chocolate',\n",
              "  'item': 'crispello(s)',\n",
              "  'price': 80,\n",
              "  'quantity': 445,\n",
              "  'rating': 67},\n",
              " '0012': {'category': 'chocolate',\n",
              "  'item': 'crispello(l)',\n",
              "  'price': 40,\n",
              "  'quantity': 1000,\n",
              "  'rating': 800},\n",
              " '0013': {'category': 'chocolate',\n",
              "  'item': 'milkybar(s)',\n",
              "  'price': 10,\n",
              "  'quantity': 59,\n",
              "  'rating': 810},\n",
              " '0014': {'category': 'chocolate',\n",
              "  'item': '5star(s)',\n",
              "  'price': 10,\n",
              "  'quantity': 100,\n",
              "  'rating': 454},\n",
              " '0015': {'category': 'chocolate',\n",
              "  'item': '5star(m)',\n",
              "  'price': 20,\n",
              "  'quantity': 100,\n",
              "  'rating': 87},\n",
              " '0016': {'category': 'chocolate',\n",
              "  'item': '5star(l)',\n",
              "  'price': 40,\n",
              "  'quantity': 58,\n",
              "  'rating': 97},\n",
              " '0017': {'category': 'chocolate',\n",
              "  'item': 'milkybar(l)',\n",
              "  'price': 10,\n",
              "  'quantity': 300,\n",
              "  'rating': 48},\n",
              " '0018': {'category': 'chocolate',\n",
              "  'item': 'kitkat(m)',\n",
              "  'price': 40,\n",
              "  'quantity': 400,\n",
              "  'rating': 900},\n",
              " '0019': {'category': 'chocolate',\n",
              "  'item': 'snickers',\n",
              "  'price': 10,\n",
              "  'quantity': 500,\n",
              "  'rating': 6},\n",
              " '0020': {'category': 'chocolate',\n",
              "  'item': 'Crackles',\n",
              "  'price': 10,\n",
              "  'quantity': 100,\n",
              "  'rating': 700},\n",
              " '0021': {'category': 'chocolate',\n",
              "  'item': 'Silk',\n",
              "  'price': 1,\n",
              "  'quantity': 10,\n",
              "  'rating': 8},\n",
              " '0022': {'category': 'chocolate',\n",
              "  'item': 'chocobar',\n",
              "  'price': 10,\n",
              "  'quantity': 200,\n",
              "  'rating': 70},\n",
              " '0023': {'category': 'chocolate',\n",
              "  'item': 'twix',\n",
              "  'price': 100,\n",
              "  'quantity': 100,\n",
              "  'rating': 9},\n",
              " '0024': {'category': 'chocolate',\n",
              "  'item': 'hershey bar',\n",
              "  'price': 5,\n",
              "  'quantity': 200,\n",
              "  'rating': 9},\n",
              " '0025': {'category': 'chocolate',\n",
              "  'item': 'crunch',\n",
              "  'price': 70,\n",
              "  'quantity': 80,\n",
              "  'rating': 80},\n",
              " '0026': {'category': 'chocolate',\n",
              "  'item': 'rolos',\n",
              "  'price': 30,\n",
              "  'quantity': 80,\n",
              "  'rating': 7},\n",
              " '0027': {'category': 'chocolate',\n",
              "  'item': 'mars',\n",
              "  'price': 100,\n",
              "  'quantity': 90,\n",
              "  'rating': 9},\n",
              " '0028': {'category': 'chocolate',\n",
              "  'item': 'bueno',\n",
              "  'price': 200,\n",
              "  'quantity': 40,\n",
              "  'rating': 898},\n",
              " '0029': {'category': 'chocolate',\n",
              "  'item': 'aero',\n",
              "  'price': 20,\n",
              "  'quantity': 100,\n",
              "  'rating': 9},\n",
              " '0030': {'category': 'chocolate',\n",
              "  'item': 'caramello',\n",
              "  'price': 50,\n",
              "  'quantity': 300,\n",
              "  'rating': 9}}"
            ]
          },
          "metadata": {},
          "execution_count": 27
        }
      ]
    },
    {
      "cell_type": "code",
      "metadata": {
        "colab": {
          "base_uri": "https://localhost:8080/"
        },
        "id": "nuHyVMZtf1yV",
        "outputId": "9d105af6-01c0-45a3-d3d3-c7d74610627e"
      },
      "source": [
        "import time\n",
        "x=\"y\"\n",
        "total=0\n",
        "while(x==\"y\" or x==\"Y\"):\n",
        "  \n",
        "  prod_id=input(\"enter id of product you want to purchase:\")\n",
        "  qty=int(input(\"enter quantity of product:\"))\n",
        "  if(qty<records[prod_id][\"quantity\"]):\n",
        "    \n",
        "    cust_name=input(\"enter customer name:\")\n",
        "    print(\"product :\",records[prod_id][\"item\"])\n",
        "    print(\"price per product :\",records[prod_id][\"price\"])\n",
        "    print(\"billing amount:\",records[prod_id][\"price\"]*qty)\n",
        "    records[prod_id][\"quantity\"]=records[prod_id][\"quantity\"]-qty\n",
        "    total=records[prod_id][\"price\"]*qty+total\n",
        "    x=input(\"Want to buy more products enter y for yes and no for displaying total bill :\")\n",
        "  else:\n",
        "      print(\"Quantity exceeded\")                                 \n",
        "\n",
        "print(\" Customer name:\",cust_name,\"                               Time & Date of shopping:\",time.ctime())\n",
        "print(\"                                                                                                          \")\n",
        "print(\"                                                                                                          \")\n",
        "print(\"     your bill amount is \",total,\"for the product you have purchased.\")"
      ],
      "execution_count": 29,
      "outputs": [
        {
          "output_type": "stream",
          "name": "stdout",
          "text": [
            "enter id of product you want to purchase:0020\n",
            "enter quantity of product:45\n",
            "enter customer name:Nitin\n",
            "product : Crackles\n",
            "price per product : 10\n",
            "billing amount: 450\n",
            "Want to buy more products enter y for yes and no for displaying total bill :y\n",
            "enter id of product you want to purchase:0016\n",
            "enter quantity of product:49\n",
            "enter customer name:Nitin\n",
            "product : 5star(l)\n",
            "price per product : 40\n",
            "billing amount: 1960\n",
            "Want to buy more products enter y for yes and no for displaying total bill :n\n",
            " Customer name: Nitin                                Time & Date of shopping: Mon Sep  6 14:55:43 2021\n",
            "                                                                                                          \n",
            "                                                                                                          \n",
            "     your bill amount is  2410 for the product you have purchased.\n"
          ]
        }
      ]
    },
    {
      "cell_type": "code",
      "metadata": {
        "colab": {
          "base_uri": "https://localhost:8080/"
        },
        "id": "iSOFcGD6f6MU",
        "outputId": "c4587d7d-9d98-4659-aa00-6ac93fd80d22"
      },
      "source": [
        "records"
      ],
      "execution_count": 30,
      "outputs": [
        {
          "output_type": "execute_result",
          "data": {
            "text/plain": [
              "{'0001': {'category': 'chocolate',\n",
              "  'item': 'Milkybar(s)',\n",
              "  'price': 25,\n",
              "  'quantity': 20,\n",
              "  'rating': 65},\n",
              " '0002': {'category': 'chocolate',\n",
              "  'item': 'Milkybar(m)',\n",
              "  'price': 52,\n",
              "  'quantity': 54,\n",
              "  'rating': 45},\n",
              " '0003': {'category': 'chocolate',\n",
              "  'item': 'Milkybar(l)',\n",
              "  'price': 45,\n",
              "  'quantity': 16,\n",
              "  'rating': 66},\n",
              " '0004': {'category': 'chocolate',\n",
              "  'item': 'barone(s)',\n",
              "  'price': 25,\n",
              "  'quantity': 50,\n",
              "  'rating': 64},\n",
              " '0005': {'category': 'chocolate',\n",
              "  'item': 'barone(m)',\n",
              "  'price': 48,\n",
              "  'quantity': 45,\n",
              "  'rating': 100},\n",
              " '0006': {'category': 'chocolate',\n",
              "  'item': 'barone(l)',\n",
              "  'price': 80,\n",
              "  'quantity': 48,\n",
              "  'rating': 48},\n",
              " '0007': {'category': 'chocolate',\n",
              "  'item': 'kitkat(s)',\n",
              "  'price': 100,\n",
              "  'quantity': 50,\n",
              "  'rating': 700},\n",
              " '0008': {'category': 'chocolate',\n",
              "  'item': 'kitkat(l)',\n",
              "  'price': 15,\n",
              "  'quantity': 70,\n",
              "  'rating': 18},\n",
              " '0009': {'category': 'chocolate',\n",
              "  'item': 'temptation(s)',\n",
              "  'price': 20,\n",
              "  'quantity': 10,\n",
              "  'rating': 59},\n",
              " '0010': {'category': 'chocolate',\n",
              "  'item': 'temptation(l)',\n",
              "  'price': 80,\n",
              "  'quantity': 115,\n",
              "  'rating': 91},\n",
              " '0011': {'category': 'chocolate',\n",
              "  'item': 'crispello(s)',\n",
              "  'price': 80,\n",
              "  'quantity': 445,\n",
              "  'rating': 67},\n",
              " '0012': {'category': 'chocolate',\n",
              "  'item': 'crispello(l)',\n",
              "  'price': 40,\n",
              "  'quantity': 1000,\n",
              "  'rating': 800},\n",
              " '0013': {'category': 'chocolate',\n",
              "  'item': 'milkybar(s)',\n",
              "  'price': 10,\n",
              "  'quantity': 59,\n",
              "  'rating': 810},\n",
              " '0014': {'category': 'chocolate',\n",
              "  'item': '5star(s)',\n",
              "  'price': 10,\n",
              "  'quantity': 100,\n",
              "  'rating': 454},\n",
              " '0015': {'category': 'chocolate',\n",
              "  'item': '5star(m)',\n",
              "  'price': 20,\n",
              "  'quantity': 100,\n",
              "  'rating': 87},\n",
              " '0016': {'category': 'chocolate',\n",
              "  'item': '5star(l)',\n",
              "  'price': 40,\n",
              "  'quantity': 9,\n",
              "  'rating': 97},\n",
              " '0017': {'category': 'chocolate',\n",
              "  'item': 'milkybar(l)',\n",
              "  'price': 10,\n",
              "  'quantity': 300,\n",
              "  'rating': 48},\n",
              " '0018': {'category': 'chocolate',\n",
              "  'item': 'kitkat(m)',\n",
              "  'price': 40,\n",
              "  'quantity': 400,\n",
              "  'rating': 900},\n",
              " '0019': {'category': 'chocolate',\n",
              "  'item': 'snickers',\n",
              "  'price': 10,\n",
              "  'quantity': 500,\n",
              "  'rating': 6},\n",
              " '0020': {'category': 'chocolate',\n",
              "  'item': 'Crackles',\n",
              "  'price': 10,\n",
              "  'quantity': 10,\n",
              "  'rating': 700},\n",
              " '0021': {'category': 'chocolate',\n",
              "  'item': 'Silk',\n",
              "  'price': 1,\n",
              "  'quantity': 10,\n",
              "  'rating': 8},\n",
              " '0022': {'category': 'chocolate',\n",
              "  'item': 'chocobar',\n",
              "  'price': 10,\n",
              "  'quantity': 200,\n",
              "  'rating': 70},\n",
              " '0023': {'category': 'chocolate',\n",
              "  'item': 'twix',\n",
              "  'price': 100,\n",
              "  'quantity': 100,\n",
              "  'rating': 9},\n",
              " '0024': {'category': 'chocolate',\n",
              "  'item': 'hershey bar',\n",
              "  'price': 5,\n",
              "  'quantity': 200,\n",
              "  'rating': 9},\n",
              " '0025': {'category': 'chocolate',\n",
              "  'item': 'crunch',\n",
              "  'price': 70,\n",
              "  'quantity': 80,\n",
              "  'rating': 80},\n",
              " '0026': {'category': 'chocolate',\n",
              "  'item': 'rolos',\n",
              "  'price': 30,\n",
              "  'quantity': 80,\n",
              "  'rating': 7},\n",
              " '0027': {'category': 'chocolate',\n",
              "  'item': 'mars',\n",
              "  'price': 100,\n",
              "  'quantity': 90,\n",
              "  'rating': 9},\n",
              " '0028': {'category': 'chocolate',\n",
              "  'item': 'bueno',\n",
              "  'price': 200,\n",
              "  'quantity': 40,\n",
              "  'rating': 898},\n",
              " '0029': {'category': 'chocolate',\n",
              "  'item': 'aero',\n",
              "  'price': 20,\n",
              "  'quantity': 100,\n",
              "  'rating': 9},\n",
              " '0030': {'category': 'chocolate',\n",
              "  'item': 'caramello',\n",
              "  'price': 50,\n",
              "  'quantity': 300,\n",
              "  'rating': 9}}"
            ]
          },
          "metadata": {},
          "execution_count": 30
        }
      ]
    }
  ]
}